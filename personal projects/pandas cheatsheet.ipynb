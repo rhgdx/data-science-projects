{
 "cells": [
  {
   "attachments": {},
   "cell_type": "markdown",
   "metadata": {},
   "source": [
    "This is the start of a sheet to reference for cleanup of data in pandas"
   ]
  },
  {
   "attachments": {},
   "cell_type": "markdown",
   "metadata": {},
   "source": [
    "#all this is Pandas\n",
    "\n",
    "# make all lower case\n",
    "df.columns= df.columns.str.lower()\n",
    "# replace str column with underscore\n",
    "df.columns = df.columns.str.replace(' ', '_')\n",
    "# sum of nans of all columns\n",
    "df.isna().sum()\n",
    "# drop rows by index\n",
    "df = df.drop([1, 3])\n",
    "# drop rows by range of index\n",
    "df = df.drop(df.index[1:4])\n",
    "# replace column NaNs with average\n",
    "df['B'] = df['B'].fillna(df['B'].mean())\n",
    "# sloppy pandas way to change 1 value in columns to another, you can also make this <> or other arguments\n",
    "df.loc[df['weather']==4, 'weather'] = 3\n"
   ]
  },
  {
   "attachments": {},
   "cell_type": "markdown",
   "metadata": {},
   "source": [
    "Numeric vs. Categorical (e.g. Survived vs. Age)\n",
    "\n",
    "    Multiple histograms\n",
    "    Multiple density estimate plots\n",
    "    Multiple box plots\n",
    "\n",
    "Categorical vs. Categorical (e.g. Survived vs. Pclass)\n",
    "\n",
    "    Grouped bar charts\n",
    "    Stacked bar charts\n",
    "\n",
    "Numeric vs. Numeric vs. Categorical (e.g. Age vs. Fare vs. Survived)\n",
    "\n",
    "    Color-coded scatter plots"
   ]
  },
  {
   "attachments": {},
   "cell_type": "markdown",
   "metadata": {},
   "source": []
  }
 ],
 "metadata": {
  "language_info": {
   "name": "python"
  },
  "orig_nbformat": 4
 },
 "nbformat": 4,
 "nbformat_minor": 2
}
