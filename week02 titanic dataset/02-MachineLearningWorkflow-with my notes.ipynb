{
 "cells": [
  {
   "cell_type": "markdown",
   "id": "24c756f7",
   "metadata": {},
   "source": [
    "# Machine Learning Workflow\n",
    "23.05.2022"
   ]
  },
  {
   "cell_type": "code",
   "execution_count": 1,
   "id": "45ce27fd",
   "metadata": {},
   "outputs": [
    {
     "name": "stdout",
     "output_type": "stream",
     "text": [
      "Collecting sklearn\n",
      "  Downloading sklearn-0.0.post4.tar.gz (3.6 kB)\n",
      "  Preparing metadata (setup.py) ... \u001b[?25ldone\n",
      "\u001b[?25hBuilding wheels for collected packages: sklearn\n",
      "  Building wheel for sklearn (setup.py) ... \u001b[?25ldone\n",
      "\u001b[?25h  Created wheel for sklearn: filename=sklearn-0.0.post4-py3-none-any.whl size=2950 sha256=ed020b4f79ddc962a8c6b1f130a2498ea45d470e09c57ab2ac8f91e5becb2c5c\n",
      "  Stored in directory: /Users/user/Library/Caches/pip/wheels/d5/b2/a9/590d15767d34955f20a9a033e8db973b79cb5672d95790c0a9\n",
      "Successfully built sklearn\n",
      "Installing collected packages: sklearn\n",
      "Successfully installed sklearn-0.0.post4\n",
      "Note: you may need to restart the kernel to use updated packages.\n"
     ]
    }
   ],
   "source": [
    "!pip install sklearn"
   ]
  },
  {
   "cell_type": "code",
   "execution_count": 1,
   "id": "652709f1-e997-41fe-8aee-b3c51b742ce5",
   "metadata": {},
   "outputs": [
    {
     "data": {
      "text/plain": [
       "'1.2.2'"
      ]
     },
     "metadata": {},
     "output_type": "display_data"
    }
   ],
   "source": [
    "import sklearn\n",
    "display(sklearn.__version__)"
   ]
  },
  {
   "cell_type": "code",
   "execution_count": 2,
   "id": "0e6b114d",
   "metadata": {},
   "outputs": [],
   "source": [
    "import pandas as pd\n",
    "import numpy as np\n",
    "\n",
    "from sklearn.model_selection import train_test_split\n",
    "from sklearn.dummy import DummyClassifier"
   ]
  },
  {
   "cell_type": "code",
   "execution_count": 4,
   "id": "245e1b1d",
   "metadata": {},
   "outputs": [],
   "source": [
    "df = pd.read_csv('../week02/data/train.csv')"
   ]
  },
  {
   "cell_type": "code",
   "execution_count": 5,
   "id": "56dd8de4",
   "metadata": {},
   "outputs": [
    {
     "data": {
      "text/html": [
       "<div>\n",
       "<style scoped>\n",
       "    .dataframe tbody tr th:only-of-type {\n",
       "        vertical-align: middle;\n",
       "    }\n",
       "\n",
       "    .dataframe tbody tr th {\n",
       "        vertical-align: top;\n",
       "    }\n",
       "\n",
       "    .dataframe thead th {\n",
       "        text-align: right;\n",
       "    }\n",
       "</style>\n",
       "<table border=\"1\" class=\"dataframe\">\n",
       "  <thead>\n",
       "    <tr style=\"text-align: right;\">\n",
       "      <th></th>\n",
       "      <th>PassengerId</th>\n",
       "      <th>Survived</th>\n",
       "      <th>Pclass</th>\n",
       "      <th>Name</th>\n",
       "      <th>Sex</th>\n",
       "      <th>Age</th>\n",
       "      <th>SibSp</th>\n",
       "      <th>Parch</th>\n",
       "      <th>Ticket</th>\n",
       "      <th>Fare</th>\n",
       "      <th>Cabin</th>\n",
       "      <th>Embarked</th>\n",
       "    </tr>\n",
       "  </thead>\n",
       "  <tbody>\n",
       "    <tr>\n",
       "      <th>0</th>\n",
       "      <td>1</td>\n",
       "      <td>0</td>\n",
       "      <td>3</td>\n",
       "      <td>Braund, Mr. Owen Harris</td>\n",
       "      <td>male</td>\n",
       "      <td>22.0</td>\n",
       "      <td>1</td>\n",
       "      <td>0</td>\n",
       "      <td>A/5 21171</td>\n",
       "      <td>7.2500</td>\n",
       "      <td>NaN</td>\n",
       "      <td>S</td>\n",
       "    </tr>\n",
       "    <tr>\n",
       "      <th>1</th>\n",
       "      <td>2</td>\n",
       "      <td>1</td>\n",
       "      <td>1</td>\n",
       "      <td>Cumings, Mrs. John Bradley (Florence Briggs Th...</td>\n",
       "      <td>female</td>\n",
       "      <td>38.0</td>\n",
       "      <td>1</td>\n",
       "      <td>0</td>\n",
       "      <td>PC 17599</td>\n",
       "      <td>71.2833</td>\n",
       "      <td>C85</td>\n",
       "      <td>C</td>\n",
       "    </tr>\n",
       "    <tr>\n",
       "      <th>2</th>\n",
       "      <td>3</td>\n",
       "      <td>1</td>\n",
       "      <td>3</td>\n",
       "      <td>Heikkinen, Miss. Laina</td>\n",
       "      <td>female</td>\n",
       "      <td>26.0</td>\n",
       "      <td>0</td>\n",
       "      <td>0</td>\n",
       "      <td>STON/O2. 3101282</td>\n",
       "      <td>7.9250</td>\n",
       "      <td>NaN</td>\n",
       "      <td>S</td>\n",
       "    </tr>\n",
       "    <tr>\n",
       "      <th>3</th>\n",
       "      <td>4</td>\n",
       "      <td>1</td>\n",
       "      <td>1</td>\n",
       "      <td>Futrelle, Mrs. Jacques Heath (Lily May Peel)</td>\n",
       "      <td>female</td>\n",
       "      <td>35.0</td>\n",
       "      <td>1</td>\n",
       "      <td>0</td>\n",
       "      <td>113803</td>\n",
       "      <td>53.1000</td>\n",
       "      <td>C123</td>\n",
       "      <td>S</td>\n",
       "    </tr>\n",
       "    <tr>\n",
       "      <th>4</th>\n",
       "      <td>5</td>\n",
       "      <td>0</td>\n",
       "      <td>3</td>\n",
       "      <td>Allen, Mr. William Henry</td>\n",
       "      <td>male</td>\n",
       "      <td>35.0</td>\n",
       "      <td>0</td>\n",
       "      <td>0</td>\n",
       "      <td>373450</td>\n",
       "      <td>8.0500</td>\n",
       "      <td>NaN</td>\n",
       "      <td>S</td>\n",
       "    </tr>\n",
       "  </tbody>\n",
       "</table>\n",
       "</div>"
      ],
      "text/plain": [
       "   PassengerId  Survived  Pclass   \n",
       "0            1         0       3  \\\n",
       "1            2         1       1   \n",
       "2            3         1       3   \n",
       "3            4         1       1   \n",
       "4            5         0       3   \n",
       "\n",
       "                                                Name     Sex   Age  SibSp   \n",
       "0                            Braund, Mr. Owen Harris    male  22.0      1  \\\n",
       "1  Cumings, Mrs. John Bradley (Florence Briggs Th...  female  38.0      1   \n",
       "2                             Heikkinen, Miss. Laina  female  26.0      0   \n",
       "3       Futrelle, Mrs. Jacques Heath (Lily May Peel)  female  35.0      1   \n",
       "4                           Allen, Mr. William Henry    male  35.0      0   \n",
       "\n",
       "   Parch            Ticket     Fare Cabin Embarked  \n",
       "0      0         A/5 21171   7.2500   NaN        S  \n",
       "1      0          PC 17599  71.2833   C85        C  \n",
       "2      0  STON/O2. 3101282   7.9250   NaN        S  \n",
       "3      0            113803  53.1000  C123        S  \n",
       "4      0            373450   8.0500   NaN        S  "
      ]
     },
     "execution_count": 5,
     "metadata": {},
     "output_type": "execute_result"
    }
   ],
   "source": [
    "df.head()"
   ]
  },
  {
   "cell_type": "markdown",
   "id": "997d823a",
   "metadata": {},
   "source": [
    "### Split prediction (or truth) from data (important to not have a **data leakage**)"
   ]
  },
  {
   "cell_type": "code",
   "execution_count": 6,
   "id": "cb59ea93",
   "metadata": {},
   "outputs": [],
   "source": [
    "y = df['Survived'] #this is the DV, do this with every DV and as early as possible\n",
    "X = df.drop('Survived', axis=1)  # save df without 'Survived' in X to prevent data leakage"
   ]
  },
  {
   "cell_type": "markdown",
   "id": "0d9b761b",
   "metadata": {},
   "source": [
    "### Split data into train and test\n",
    "use `random_state` to have the same outcome for a random process    \n",
    "split 20 - 30 % off as a test data set, depending on size of data setset"
   ]
  },
  {
   "cell_type": "code",
   "execution_count": 7,
   "id": "8bf430e4",
   "metadata": {},
   "outputs": [],
   "source": [
    "X_train, X_test, y_train, y_test = train_test_split(X, y, train_size=0.75, random_state=14)"
   ]
  },
  {
   "cell_type": "markdown",
   "id": "b4bbc132",
   "metadata": {},
   "source": [
    "### most simple possible model \n",
    "predict always the most common outcome"
   ]
  },
  {
   "cell_type": "code",
   "execution_count": 8,
   "id": "ab605555",
   "metadata": {},
   "outputs": [
    {
     "data": {
      "text/html": [
       "<style>#sk-container-id-1 {color: black;background-color: white;}#sk-container-id-1 pre{padding: 0;}#sk-container-id-1 div.sk-toggleable {background-color: white;}#sk-container-id-1 label.sk-toggleable__label {cursor: pointer;display: block;width: 100%;margin-bottom: 0;padding: 0.3em;box-sizing: border-box;text-align: center;}#sk-container-id-1 label.sk-toggleable__label-arrow:before {content: \"▸\";float: left;margin-right: 0.25em;color: #696969;}#sk-container-id-1 label.sk-toggleable__label-arrow:hover:before {color: black;}#sk-container-id-1 div.sk-estimator:hover label.sk-toggleable__label-arrow:before {color: black;}#sk-container-id-1 div.sk-toggleable__content {max-height: 0;max-width: 0;overflow: hidden;text-align: left;background-color: #f0f8ff;}#sk-container-id-1 div.sk-toggleable__content pre {margin: 0.2em;color: black;border-radius: 0.25em;background-color: #f0f8ff;}#sk-container-id-1 input.sk-toggleable__control:checked~div.sk-toggleable__content {max-height: 200px;max-width: 100%;overflow: auto;}#sk-container-id-1 input.sk-toggleable__control:checked~label.sk-toggleable__label-arrow:before {content: \"▾\";}#sk-container-id-1 div.sk-estimator input.sk-toggleable__control:checked~label.sk-toggleable__label {background-color: #d4ebff;}#sk-container-id-1 div.sk-label input.sk-toggleable__control:checked~label.sk-toggleable__label {background-color: #d4ebff;}#sk-container-id-1 input.sk-hidden--visually {border: 0;clip: rect(1px 1px 1px 1px);clip: rect(1px, 1px, 1px, 1px);height: 1px;margin: -1px;overflow: hidden;padding: 0;position: absolute;width: 1px;}#sk-container-id-1 div.sk-estimator {font-family: monospace;background-color: #f0f8ff;border: 1px dotted black;border-radius: 0.25em;box-sizing: border-box;margin-bottom: 0.5em;}#sk-container-id-1 div.sk-estimator:hover {background-color: #d4ebff;}#sk-container-id-1 div.sk-parallel-item::after {content: \"\";width: 100%;border-bottom: 1px solid gray;flex-grow: 1;}#sk-container-id-1 div.sk-label:hover label.sk-toggleable__label {background-color: #d4ebff;}#sk-container-id-1 div.sk-serial::before {content: \"\";position: absolute;border-left: 1px solid gray;box-sizing: border-box;top: 0;bottom: 0;left: 50%;z-index: 0;}#sk-container-id-1 div.sk-serial {display: flex;flex-direction: column;align-items: center;background-color: white;padding-right: 0.2em;padding-left: 0.2em;position: relative;}#sk-container-id-1 div.sk-item {position: relative;z-index: 1;}#sk-container-id-1 div.sk-parallel {display: flex;align-items: stretch;justify-content: center;background-color: white;position: relative;}#sk-container-id-1 div.sk-item::before, #sk-container-id-1 div.sk-parallel-item::before {content: \"\";position: absolute;border-left: 1px solid gray;box-sizing: border-box;top: 0;bottom: 0;left: 50%;z-index: -1;}#sk-container-id-1 div.sk-parallel-item {display: flex;flex-direction: column;z-index: 1;position: relative;background-color: white;}#sk-container-id-1 div.sk-parallel-item:first-child::after {align-self: flex-end;width: 50%;}#sk-container-id-1 div.sk-parallel-item:last-child::after {align-self: flex-start;width: 50%;}#sk-container-id-1 div.sk-parallel-item:only-child::after {width: 0;}#sk-container-id-1 div.sk-dashed-wrapped {border: 1px dashed gray;margin: 0 0.4em 0.5em 0.4em;box-sizing: border-box;padding-bottom: 0.4em;background-color: white;}#sk-container-id-1 div.sk-label label {font-family: monospace;font-weight: bold;display: inline-block;line-height: 1.2em;}#sk-container-id-1 div.sk-label-container {text-align: center;}#sk-container-id-1 div.sk-container {/* jupyter's `normalize.less` sets `[hidden] { display: none; }` but bootstrap.min.css set `[hidden] { display: none !important; }` so we also need the `!important` here to be able to override the default hidden behavior on the sphinx rendered scikit-learn.org. See: https://github.com/scikit-learn/scikit-learn/issues/21755 */display: inline-block !important;position: relative;}#sk-container-id-1 div.sk-text-repr-fallback {display: none;}</style><div id=\"sk-container-id-1\" class=\"sk-top-container\"><div class=\"sk-text-repr-fallback\"><pre>DummyClassifier()</pre><b>In a Jupyter environment, please rerun this cell to show the HTML representation or trust the notebook. <br />On GitHub, the HTML representation is unable to render, please try loading this page with nbviewer.org.</b></div><div class=\"sk-container\" hidden><div class=\"sk-item\"><div class=\"sk-estimator sk-toggleable\"><input class=\"sk-toggleable__control sk-hidden--visually\" id=\"sk-estimator-id-1\" type=\"checkbox\" checked><label for=\"sk-estimator-id-1\" class=\"sk-toggleable__label sk-toggleable__label-arrow\">DummyClassifier</label><div class=\"sk-toggleable__content\"><pre>DummyClassifier()</pre></div></div></div></div></div>"
      ],
      "text/plain": [
       "DummyClassifier()"
      ]
     },
     "execution_count": 8,
     "metadata": {},
     "output_type": "execute_result"
    }
   ],
   "source": [
    "dummy = DummyClassifier(strategy='prior')  # instantiation, load the model\n",
    "dummy.fit(X_train, y_train)"
   ]
  },
  {
   "cell_type": "markdown",
   "id": "dbfec3f5",
   "metadata": {},
   "source": [
    "'predict' gives you the actual class of each observable (passengers here) 0 = dead"
   ]
  },
  {
   "cell_type": "code",
   "execution_count": 11,
   "id": "68ea6a08",
   "metadata": {},
   "outputs": [
    {
     "data": {
      "text/plain": [
       "array([0, 0, 0, 0, 0, 0, 0, 0, 0, 0, 0, 0, 0, 0, 0, 0, 0, 0, 0, 0, 0, 0,\n",
       "       0, 0, 0, 0, 0, 0, 0, 0, 0, 0, 0, 0, 0, 0, 0, 0, 0, 0, 0, 0, 0, 0,\n",
       "       0, 0, 0, 0, 0, 0, 0, 0, 0, 0, 0, 0, 0, 0, 0, 0, 0, 0, 0, 0, 0, 0,\n",
       "       0, 0, 0, 0, 0, 0, 0, 0, 0, 0, 0, 0, 0, 0, 0, 0, 0, 0, 0, 0, 0, 0,\n",
       "       0, 0, 0, 0, 0, 0, 0, 0, 0, 0, 0, 0, 0, 0, 0, 0, 0, 0, 0, 0, 0, 0,\n",
       "       0, 0, 0, 0, 0, 0, 0, 0, 0, 0, 0, 0, 0, 0, 0, 0, 0, 0, 0, 0, 0, 0,\n",
       "       0, 0, 0, 0, 0, 0, 0, 0, 0, 0, 0, 0, 0, 0, 0, 0, 0, 0, 0, 0, 0, 0,\n",
       "       0, 0, 0, 0, 0, 0, 0, 0, 0, 0, 0, 0, 0, 0, 0, 0, 0, 0, 0, 0, 0, 0,\n",
       "       0, 0, 0, 0, 0, 0, 0, 0, 0, 0, 0, 0, 0, 0, 0, 0, 0, 0, 0, 0, 0, 0,\n",
       "       0, 0, 0, 0, 0, 0, 0, 0, 0, 0, 0, 0, 0, 0, 0, 0, 0, 0, 0, 0, 0, 0,\n",
       "       0, 0, 0])"
      ]
     },
     "execution_count": 11,
     "metadata": {},
     "output_type": "execute_result"
    }
   ],
   "source": [
    "dummy.predict(X_test)"
   ]
  },
  {
   "cell_type": "markdown",
   "id": "d806b4ae",
   "metadata": {},
   "source": [
    "'predict_proba' probability of each class for each observable (passenger)"
   ]
  },
  {
   "cell_type": "code",
   "execution_count": 9,
   "id": "1570452d",
   "metadata": {},
   "outputs": [
    {
     "data": {
      "text/plain": [
       "array([[0.61377246, 0.38622754],\n",
       "       [0.61377246, 0.38622754],\n",
       "       [0.61377246, 0.38622754],\n",
       "       [0.61377246, 0.38622754],\n",
       "       [0.61377246, 0.38622754],\n",
       "       [0.61377246, 0.38622754],\n",
       "       [0.61377246, 0.38622754],\n",
       "       [0.61377246, 0.38622754],\n",
       "       [0.61377246, 0.38622754],\n",
       "       [0.61377246, 0.38622754],\n",
       "       [0.61377246, 0.38622754],\n",
       "       [0.61377246, 0.38622754],\n",
       "       [0.61377246, 0.38622754],\n",
       "       [0.61377246, 0.38622754],\n",
       "       [0.61377246, 0.38622754],\n",
       "       [0.61377246, 0.38622754],\n",
       "       [0.61377246, 0.38622754],\n",
       "       [0.61377246, 0.38622754],\n",
       "       [0.61377246, 0.38622754],\n",
       "       [0.61377246, 0.38622754],\n",
       "       [0.61377246, 0.38622754],\n",
       "       [0.61377246, 0.38622754],\n",
       "       [0.61377246, 0.38622754],\n",
       "       [0.61377246, 0.38622754],\n",
       "       [0.61377246, 0.38622754],\n",
       "       [0.61377246, 0.38622754],\n",
       "       [0.61377246, 0.38622754],\n",
       "       [0.61377246, 0.38622754],\n",
       "       [0.61377246, 0.38622754],\n",
       "       [0.61377246, 0.38622754],\n",
       "       [0.61377246, 0.38622754],\n",
       "       [0.61377246, 0.38622754],\n",
       "       [0.61377246, 0.38622754],\n",
       "       [0.61377246, 0.38622754],\n",
       "       [0.61377246, 0.38622754],\n",
       "       [0.61377246, 0.38622754],\n",
       "       [0.61377246, 0.38622754],\n",
       "       [0.61377246, 0.38622754],\n",
       "       [0.61377246, 0.38622754],\n",
       "       [0.61377246, 0.38622754],\n",
       "       [0.61377246, 0.38622754],\n",
       "       [0.61377246, 0.38622754],\n",
       "       [0.61377246, 0.38622754],\n",
       "       [0.61377246, 0.38622754],\n",
       "       [0.61377246, 0.38622754],\n",
       "       [0.61377246, 0.38622754],\n",
       "       [0.61377246, 0.38622754],\n",
       "       [0.61377246, 0.38622754],\n",
       "       [0.61377246, 0.38622754],\n",
       "       [0.61377246, 0.38622754],\n",
       "       [0.61377246, 0.38622754],\n",
       "       [0.61377246, 0.38622754],\n",
       "       [0.61377246, 0.38622754],\n",
       "       [0.61377246, 0.38622754],\n",
       "       [0.61377246, 0.38622754],\n",
       "       [0.61377246, 0.38622754],\n",
       "       [0.61377246, 0.38622754],\n",
       "       [0.61377246, 0.38622754],\n",
       "       [0.61377246, 0.38622754],\n",
       "       [0.61377246, 0.38622754],\n",
       "       [0.61377246, 0.38622754],\n",
       "       [0.61377246, 0.38622754],\n",
       "       [0.61377246, 0.38622754],\n",
       "       [0.61377246, 0.38622754],\n",
       "       [0.61377246, 0.38622754],\n",
       "       [0.61377246, 0.38622754],\n",
       "       [0.61377246, 0.38622754],\n",
       "       [0.61377246, 0.38622754],\n",
       "       [0.61377246, 0.38622754],\n",
       "       [0.61377246, 0.38622754],\n",
       "       [0.61377246, 0.38622754],\n",
       "       [0.61377246, 0.38622754],\n",
       "       [0.61377246, 0.38622754],\n",
       "       [0.61377246, 0.38622754],\n",
       "       [0.61377246, 0.38622754],\n",
       "       [0.61377246, 0.38622754],\n",
       "       [0.61377246, 0.38622754],\n",
       "       [0.61377246, 0.38622754],\n",
       "       [0.61377246, 0.38622754],\n",
       "       [0.61377246, 0.38622754],\n",
       "       [0.61377246, 0.38622754],\n",
       "       [0.61377246, 0.38622754],\n",
       "       [0.61377246, 0.38622754],\n",
       "       [0.61377246, 0.38622754],\n",
       "       [0.61377246, 0.38622754],\n",
       "       [0.61377246, 0.38622754],\n",
       "       [0.61377246, 0.38622754],\n",
       "       [0.61377246, 0.38622754],\n",
       "       [0.61377246, 0.38622754],\n",
       "       [0.61377246, 0.38622754],\n",
       "       [0.61377246, 0.38622754],\n",
       "       [0.61377246, 0.38622754],\n",
       "       [0.61377246, 0.38622754],\n",
       "       [0.61377246, 0.38622754],\n",
       "       [0.61377246, 0.38622754],\n",
       "       [0.61377246, 0.38622754],\n",
       "       [0.61377246, 0.38622754],\n",
       "       [0.61377246, 0.38622754],\n",
       "       [0.61377246, 0.38622754],\n",
       "       [0.61377246, 0.38622754],\n",
       "       [0.61377246, 0.38622754],\n",
       "       [0.61377246, 0.38622754],\n",
       "       [0.61377246, 0.38622754],\n",
       "       [0.61377246, 0.38622754],\n",
       "       [0.61377246, 0.38622754],\n",
       "       [0.61377246, 0.38622754],\n",
       "       [0.61377246, 0.38622754],\n",
       "       [0.61377246, 0.38622754],\n",
       "       [0.61377246, 0.38622754],\n",
       "       [0.61377246, 0.38622754],\n",
       "       [0.61377246, 0.38622754],\n",
       "       [0.61377246, 0.38622754],\n",
       "       [0.61377246, 0.38622754],\n",
       "       [0.61377246, 0.38622754],\n",
       "       [0.61377246, 0.38622754],\n",
       "       [0.61377246, 0.38622754],\n",
       "       [0.61377246, 0.38622754],\n",
       "       [0.61377246, 0.38622754],\n",
       "       [0.61377246, 0.38622754],\n",
       "       [0.61377246, 0.38622754],\n",
       "       [0.61377246, 0.38622754],\n",
       "       [0.61377246, 0.38622754],\n",
       "       [0.61377246, 0.38622754],\n",
       "       [0.61377246, 0.38622754],\n",
       "       [0.61377246, 0.38622754],\n",
       "       [0.61377246, 0.38622754],\n",
       "       [0.61377246, 0.38622754],\n",
       "       [0.61377246, 0.38622754],\n",
       "       [0.61377246, 0.38622754],\n",
       "       [0.61377246, 0.38622754],\n",
       "       [0.61377246, 0.38622754],\n",
       "       [0.61377246, 0.38622754],\n",
       "       [0.61377246, 0.38622754],\n",
       "       [0.61377246, 0.38622754],\n",
       "       [0.61377246, 0.38622754],\n",
       "       [0.61377246, 0.38622754],\n",
       "       [0.61377246, 0.38622754],\n",
       "       [0.61377246, 0.38622754],\n",
       "       [0.61377246, 0.38622754],\n",
       "       [0.61377246, 0.38622754],\n",
       "       [0.61377246, 0.38622754],\n",
       "       [0.61377246, 0.38622754],\n",
       "       [0.61377246, 0.38622754],\n",
       "       [0.61377246, 0.38622754],\n",
       "       [0.61377246, 0.38622754],\n",
       "       [0.61377246, 0.38622754],\n",
       "       [0.61377246, 0.38622754],\n",
       "       [0.61377246, 0.38622754],\n",
       "       [0.61377246, 0.38622754],\n",
       "       [0.61377246, 0.38622754],\n",
       "       [0.61377246, 0.38622754],\n",
       "       [0.61377246, 0.38622754],\n",
       "       [0.61377246, 0.38622754],\n",
       "       [0.61377246, 0.38622754],\n",
       "       [0.61377246, 0.38622754],\n",
       "       [0.61377246, 0.38622754],\n",
       "       [0.61377246, 0.38622754],\n",
       "       [0.61377246, 0.38622754],\n",
       "       [0.61377246, 0.38622754],\n",
       "       [0.61377246, 0.38622754],\n",
       "       [0.61377246, 0.38622754],\n",
       "       [0.61377246, 0.38622754],\n",
       "       [0.61377246, 0.38622754],\n",
       "       [0.61377246, 0.38622754],\n",
       "       [0.61377246, 0.38622754],\n",
       "       [0.61377246, 0.38622754],\n",
       "       [0.61377246, 0.38622754],\n",
       "       [0.61377246, 0.38622754],\n",
       "       [0.61377246, 0.38622754],\n",
       "       [0.61377246, 0.38622754],\n",
       "       [0.61377246, 0.38622754],\n",
       "       [0.61377246, 0.38622754],\n",
       "       [0.61377246, 0.38622754],\n",
       "       [0.61377246, 0.38622754],\n",
       "       [0.61377246, 0.38622754],\n",
       "       [0.61377246, 0.38622754],\n",
       "       [0.61377246, 0.38622754],\n",
       "       [0.61377246, 0.38622754],\n",
       "       [0.61377246, 0.38622754],\n",
       "       [0.61377246, 0.38622754],\n",
       "       [0.61377246, 0.38622754],\n",
       "       [0.61377246, 0.38622754],\n",
       "       [0.61377246, 0.38622754],\n",
       "       [0.61377246, 0.38622754],\n",
       "       [0.61377246, 0.38622754],\n",
       "       [0.61377246, 0.38622754],\n",
       "       [0.61377246, 0.38622754],\n",
       "       [0.61377246, 0.38622754],\n",
       "       [0.61377246, 0.38622754],\n",
       "       [0.61377246, 0.38622754],\n",
       "       [0.61377246, 0.38622754],\n",
       "       [0.61377246, 0.38622754],\n",
       "       [0.61377246, 0.38622754],\n",
       "       [0.61377246, 0.38622754],\n",
       "       [0.61377246, 0.38622754],\n",
       "       [0.61377246, 0.38622754],\n",
       "       [0.61377246, 0.38622754],\n",
       "       [0.61377246, 0.38622754],\n",
       "       [0.61377246, 0.38622754],\n",
       "       [0.61377246, 0.38622754],\n",
       "       [0.61377246, 0.38622754],\n",
       "       [0.61377246, 0.38622754],\n",
       "       [0.61377246, 0.38622754],\n",
       "       [0.61377246, 0.38622754],\n",
       "       [0.61377246, 0.38622754],\n",
       "       [0.61377246, 0.38622754],\n",
       "       [0.61377246, 0.38622754],\n",
       "       [0.61377246, 0.38622754],\n",
       "       [0.61377246, 0.38622754],\n",
       "       [0.61377246, 0.38622754],\n",
       "       [0.61377246, 0.38622754],\n",
       "       [0.61377246, 0.38622754],\n",
       "       [0.61377246, 0.38622754],\n",
       "       [0.61377246, 0.38622754],\n",
       "       [0.61377246, 0.38622754],\n",
       "       [0.61377246, 0.38622754],\n",
       "       [0.61377246, 0.38622754],\n",
       "       [0.61377246, 0.38622754],\n",
       "       [0.61377246, 0.38622754],\n",
       "       [0.61377246, 0.38622754],\n",
       "       [0.61377246, 0.38622754],\n",
       "       [0.61377246, 0.38622754],\n",
       "       [0.61377246, 0.38622754]])"
      ]
     },
     "execution_count": 9,
     "metadata": {},
     "output_type": "execute_result"
    }
   ],
   "source": [
    "dummy.predict_proba(X_test)"
   ]
  },
  {
   "cell_type": "markdown",
   "id": "2e00f600",
   "metadata": {},
   "source": [
    "'score' is the % of the correctly classified observables (passengers) in a binary"
   ]
  },
  {
   "cell_type": "code",
   "execution_count": 12,
   "id": "b14d0a69",
   "metadata": {},
   "outputs": [
    {
     "data": {
      "text/plain": [
       "0.6233183856502242"
      ]
     },
     "execution_count": 12,
     "metadata": {},
     "output_type": "execute_result"
    }
   ],
   "source": [
    "dummy.score(X_test, y_test)"
   ]
  },
  {
   "cell_type": "code",
   "execution_count": 13,
   "id": "872a77ff",
   "metadata": {},
   "outputs": [
    {
     "data": {
      "text/plain": [
       "0.6233183856502242"
      ]
     },
     "execution_count": 13,
     "metadata": {},
     "output_type": "execute_result"
    }
   ],
   "source": [
    "139/223 #this means 139 of our 223 predictions were correct, this is also the number to beat by friday"
   ]
  },
  {
   "cell_type": "code",
   "execution_count": null,
   "id": "3f47d65d",
   "metadata": {},
   "outputs": [],
   "source": []
  },
  {
   "cell_type": "code",
   "execution_count": null,
   "id": "84b6bdb0",
   "metadata": {},
   "outputs": [],
   "source": []
  }
 ],
 "metadata": {
  "kernelspec": {
   "display_name": "Python 3 (ipykernel)",
   "language": "python",
   "name": "python3"
  },
  "language_info": {
   "codemirror_mode": {
    "name": "ipython",
    "version": 3
   },
   "file_extension": ".py",
   "mimetype": "text/x-python",
   "name": "python",
   "nbconvert_exporter": "python",
   "pygments_lexer": "ipython3",
   "version": "3.9.16"
  }
 },
 "nbformat": 4,
 "nbformat_minor": 5
}
